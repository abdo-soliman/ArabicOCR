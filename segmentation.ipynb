{
 "cells": [
  {
   "cell_type": "code",
   "execution_count": 1,
   "metadata": {},
   "outputs": [],
   "source": [
    "import cv2\n",
    "import time\n",
    "import numpy as np\n",
    "\n",
    "%matplotlib inline\n",
    "import matplotlib.pyplot as plt\n",
    "from matplotlib.pyplot import bar\n",
    "\n",
    "from thinning import zhangSuen\n",
    "from skimage.filters import threshold_otsu\n",
    "from skimage.morphology import skeletonize"
   ]
  },
  {
   "cell_type": "code",
   "execution_count": 2,
   "metadata": {},
   "outputs": [],
   "source": [
    "def show_images(images,titles=None):\n",
    "    n_ims = len(images)\n",
    "    if titles is None: titles = ['(%d)' % i for i in range(1,n_ims + 1)]\n",
    "    fig = plt.figure()\n",
    "    n = 1\n",
    "    for image,title in zip(images,titles):\n",
    "        a = fig.add_subplot(1,n_ims,n)\n",
    "        if image.ndim == 2: \n",
    "            plt.gray()\n",
    "        plt.imshow(image)\n",
    "        a.set_title(title)\n",
    "        n += 1\n",
    "    fig.set_size_inches(np.array(fig.get_size_inches()) * n_ims)\n",
    "    plt.show()"
   ]
  },
  {
   "cell_type": "code",
   "execution_count": 3,
   "metadata": {},
   "outputs": [],
   "source": [
    "def getHist(img, axes=0):\n",
    "    hist = []\n",
    "    if axes == 0:\n",
    "        for i in range(img.shape[1]):\n",
    "            hist.append(np.sum(img[:, i]))\n",
    "    else:\n",
    "        for i in range(img.shape[0]):\n",
    "            hist.append(np.sum(img[i, :]))\n",
    "            \n",
    "    return np.array(hist)"
   ]
  },
  {
   "cell_type": "code",
   "execution_count": 4,
   "metadata": {},
   "outputs": [],
   "source": [
    "def showHist(hist):\n",
    "    plt.figure()\n",
    "    bar(np.arange(len(hist)), hist, width=0.8, align='center')"
   ]
  },
  {
   "cell_type": "code",
   "execution_count": 5,
   "metadata": {},
   "outputs": [],
   "source": [
    "def thin(img):\n",
    "    img = np.invert(img)\n",
    "    \n",
    "    Otsu_Threshold = threshold_otsu(img)\n",
    "    thresholded = img < Otsu_Threshold    # must set object region as 1, background region as 0 !\n",
    "\n",
    "    return zhangSuen(thresholded)"
   ]
  },
  {
   "cell_type": "code",
   "execution_count": 6,
   "metadata": {},
   "outputs": [],
   "source": [
    "def toSkeleton(img):\n",
    "    binary = img.copy()\n",
    "    binary[binary <= 127] = 0\n",
    "    binary[binary > 127] = 1\n",
    "    return (skeletonize(binary) + 0)"
   ]
  },
  {
   "cell_type": "code",
   "execution_count": 7,
   "metadata": {},
   "outputs": [],
   "source": [
    "def breakLines(img):\n",
    "    gray = cv2.cvtColor(img, cv2.COLOR_BGR2GRAY)\n",
    "\n",
    "    ## (2) threshold\n",
    "    th, threshed = cv2.threshold(gray, 127, 255, cv2.THRESH_BINARY_INV|cv2.THRESH_OTSU)\n",
    "    pts = cv2.findNonZero(threshed)\n",
    "    ret = cv2.minAreaRect(pts)\n",
    "\n",
    "    ## (3) minAreaRect on the nozeros\n",
    "    H,W = img.shape[:2]\n",
    "    (cx,cy), (w,h), ang = ret\n",
    "    \n",
    "    if (H > W and w > h) or (H < W and w < h):\n",
    "        w,h = h,w\n",
    "        ang += 90\n",
    "\n",
    "    # ## (4) Find rotated matrix, do rotation\n",
    "    M = cv2.getRotationMatrix2D((cx,cy), ang, 1.0)\n",
    "    rotated = cv2.warpAffine(threshed, M, (img.shape[1], img.shape[0]))\n",
    "    \n",
    "    ## (5) find and draw the upper and lower boundary of each lines\n",
    "    hist = cv2.reduce(rotated, 1, cv2.REDUCE_AVG).reshape(-1)\n",
    "\n",
    "    th = 2\n",
    "    uppers = [y for y in range(H-1) if hist[y]<=th and hist[y+1]>th]\n",
    "    lowers = [y for y in range(H-1) if hist[y]>th and hist[y+1]<=th]\n",
    "    \n",
    "    uppers_mod = [uppers[0]]\n",
    "    lowers_mod = [lowers[0]]\n",
    "    \n",
    "    for i in range(1, len(uppers)):\n",
    "        if (lowers[i] - lowers[i-1]) > 10:\n",
    "            uppers_mod.append(uppers[i])\n",
    "            lowers_mod.append(lowers[i])\n",
    "\n",
    "    lines = []\n",
    "    if len(uppers_mod) == len(lowers_mod):\n",
    "        for i in range(len(uppers_mod)):\n",
    "            lines.append(rotated[uppers_mod[i]-5:lowers_mod[i]+5, :])\n",
    "\n",
    "    return lines"
   ]
  },
  {
   "cell_type": "code",
   "execution_count": 62,
   "metadata": {},
   "outputs": [],
   "source": [
    "def breakWords(line):\n",
    "    H, W = line.shape\n",
    "    hist = cv2.reduce(line, 0, cv2.REDUCE_AVG).reshape(-1)\n",
    "\n",
    "    lefts = []\n",
    "    rights = []\n",
    "    \n",
    "    start = False\n",
    "    count = 0\n",
    "    possible_end = 0\n",
    "    for i in range(len(hist)):\n",
    "        if hist[i] != 0 and start:\n",
    "            count = 0\n",
    "\n",
    "        if hist[i] == 0 and start:\n",
    "            if count == 0:\n",
    "                possible_end = i\n",
    "            if count >= 3:\n",
    "                count = 0\n",
    "                start = False\n",
    "                rights.append(possible_end)\n",
    "            count = count + 1\n",
    "    \n",
    "        if hist[i] != 0 and not start:\n",
    "            start = True\n",
    "            lefts.append(i)\n",
    "\n",
    "    words = []\n",
    "    if len(lefts) == len(rights):\n",
    "        for i in range(len(rights)):\n",
    "            words.append(line[:, lefts[i]:rights[i]])\n",
    "\n",
    "    return words"
   ]
  },
  {
   "cell_type": "code",
   "execution_count": 9,
   "metadata": {},
   "outputs": [],
   "source": [
    "def extractTemplate(template, isSkeleton=True):\n",
    "    if not isSkeleton:\n",
    "        template = toSkeleton(template)\n",
    "    template = template[~np.all(template == 0, axis=1)]\n",
    "    mask = (template == 0).all(0)\n",
    "    template = template[:, ~mask]\n",
    "    \n",
    "    return template"
   ]
  },
  {
   "cell_type": "code",
   "execution_count": 10,
   "metadata": {},
   "outputs": [],
   "source": [
    "def templateMatch(skeleton, template, threshold=0.4, start=False):\n",
    "    if template.shape[0] > skeleton.shape[0] or template.shape[1] > skeleton.shape[1]:\n",
    "        return 0\n",
    "    \n",
    "    w, h = template.shape[::-1]\n",
    "    res = cv2.matchTemplate(skeleton.astype(np.uint8), template.astype(np.uint8), cv2.TM_CCOEFF_NORMED)\n",
    "    loc = np.where( res >= threshold)\n",
    "    \n",
    "    for pt in zip(*loc[::-1]):\n",
    "        if start:\n",
    "            return pt[0]\n",
    "        return pt[0] + w\n",
    "\n",
    "    return 0"
   ]
  },
  {
   "cell_type": "code",
   "execution_count": 11,
   "metadata": {},
   "outputs": [],
   "source": [
    "def getBaseLine(word):\n",
    "    skeleton = toSkeleton(word)\n",
    "    \n",
    "    hist = []\n",
    "    for i in range(word.shape[0]):\n",
    "        hist.append(np.sum(word[i, :]))\n",
    "\n",
    "    baseLine = np.where(hist == np.max(hist))[0][0]\n",
    "    return baseLine"
   ]
  },
  {
   "cell_type": "code",
   "execution_count": 12,
   "metadata": {},
   "outputs": [],
   "source": [
    "def addEmptySpaceSep(hist):\n",
    "    splitters = []\n",
    "    notEmpty = False\n",
    "    for i in range(len(hist)):\n",
    "        if notEmpty and hist[i] == 0:\n",
    "            splitters.append(i)\n",
    "            notEmpty = False\n",
    "\n",
    "        if hist[i] != 0:\n",
    "            notEmpty = True\n",
    "            \n",
    "    return np.array(splitters)"
   ]
  },
  {
   "cell_type": "code",
   "execution_count": 13,
   "metadata": {},
   "outputs": [],
   "source": [
    "def isFakeAlef(word, splitter):\n",
    "    start = 0\n",
    "    for i in range(word.shape[1]):\n",
    "        if np.sum(word[:, i]) > 0:\n",
    "            start = i\n",
    "            break\n",
    "    subWord = word[:, start:splitter]\n",
    "    \n",
    "    if subWord.shape[1] > 3:\n",
    "        return False\n",
    "    for i in range(subWord.shape[1]):\n",
    "        column = subWord[:, i]\n",
    "        indecies = np.where(column > 0)[0]\n",
    "        \n",
    "        if len(indecies) > 1 and (abs(indecies[-1] - indecies[0]) > 3):\n",
    "            return False\n",
    "        \n",
    "    return True"
   ]
  },
  {
   "cell_type": "code",
   "execution_count": 14,
   "metadata": {},
   "outputs": [],
   "source": [
    "sen = (cv2.imread(\"./templates/sen_template.png\", 0) / 255).astype(np.uint8)\n",
    "yStart = (cv2.imread(\"./templates/y_template.png\", 0) / 255).astype(np.uint8)\n",
    "senStart = (cv2.imread(\"./templates/sen_start_template.png\", 0) / 255).astype(np.uint8)\n",
    "senMiddle = (cv2.imread(\"./templates/sen_middle_template.png\", 0) / 255).astype(np.uint8)\n",
    "hStart = (cv2.imread(\"./templates/7_template.png\", 0) / 255).astype(np.uint8)\n",
    "shenMiddle = (cv2.imread(\"./templates/shen_middle_template.png\", 0) / 255).astype(np.uint8)"
   ]
  },
  {
   "cell_type": "code",
   "execution_count": 15,
   "metadata": {},
   "outputs": [],
   "source": [
    "def matchFirstCharacter(word):\n",
    "    yStart = (cv2.imread(\"./templates/y_template.png\", 0) / 255).astype(np.uint8)\n",
    "    senStart = (cv2.imread(\"./templates/sen_start_template.png\", 0) / 255).astype(np.uint8)\n",
    "    hStart = (cv2.imread(\"./templates/7_template.png\", 0) / 255).astype(np.uint8)\n",
    "\n",
    "    skeleton = toSkeleton(word)\n",
    "    firstSenSep = templateMatch(skeleton, senStart, threshold=0.55)\n",
    "    firstYSep = templateMatch(skeleton, yStart, threshold=0.8)\n",
    "    firstHSep = templateMatch(skeleton, hStart, threshold=0.5)\n",
    "    \n",
    "    firstSep = 0\n",
    "    if firstSenSep != 0:\n",
    "        firstSep = firstSenSep\n",
    "    elif firstYSep != 0:\n",
    "        firstSep = firstYSep\n",
    "    elif firstHSep != 0:\n",
    "        firstSep = firstHSep\n",
    "        \n",
    "    return firstSep"
   ]
  },
  {
   "cell_type": "code",
   "execution_count": 74,
   "metadata": {},
   "outputs": [],
   "source": [
    "def segmenteCharacters(word, to_skeleton=True, debug=False):\n",
    "    full_skeleton = toSkeleton(word) if to_skeleton else word\n",
    "    skeleton = toSkeleton(word) if to_skeleton else word\n",
    "    base_line = getBaseLine(skeleton)\n",
    "    splitters = np.array([]).astype(np.uint8)\n",
    "\n",
    "    first_sep = matchFirstCharacter(word)\n",
    "    if first_sep >= word.shape[1]:\n",
    "        return [full_skeleton]\n",
    "\n",
    "    if first_sep != 0:\n",
    "        splitters = np.append(splitters, first_sep)\n",
    "        word = word[:, first_sep:]\n",
    "        skeleton = toSkeleton(word)\n",
    "\n",
    "    full_hist = getHist(skeleton)\n",
    "    hist = getHist(skeleton[0:base_line-1, :])\n",
    "    diff = np.diff(hist)\n",
    "\n",
    "    # add splitters at the start of region that doesn't contain pixels\n",
    "    empty_space_splitters = addEmptySpaceSep(full_hist) + first_sep\n",
    "    splitters = np.append(np.array(splitters), empty_space_splitters)\n",
    "\n",
    "    # add splitter at point if you were above base line and return back to baseline\n",
    "    base_line_splitters = [(i + first_sep) for i in range(1, len(diff))\n",
    "                           if (diff[i-1] != 0 and diff[i] == 0 and hist[i] == 0)]\n",
    "    splitters = np.append(splitters, base_line_splitters).astype(np.uint8)\n",
    "    splitters.sort()    # sort splitters in ascending order\n",
    "\n",
    "    if len(splitters) == 0:\n",
    "        return [full_skeleton]\n",
    "\n",
    "    start = 2 if len(\n",
    "        splitters) > 1 and splitters[1] - splitters[0] <= 3 and splitters[1] in empty_space_splitters else 1\n",
    "    mod_splitters = np.array(\n",
    "        [splitters[1] if start == 2 else splitters[0]]).astype(np.uint8)\n",
    "    real_splitters = [splitters[i] for i in range(\n",
    "        start, len(splitters)) if splitters[i] - splitters[i-1] > 3]\n",
    "    mod_splitters = np.append(mod_splitters, real_splitters).astype(np.uint8)\n",
    "\n",
    "    if len(mod_splitters) == 0:\n",
    "        return [full_skeleton]\n",
    "\n",
    "    # remove separators with no characters between them\n",
    "    non_character_filtered = []\n",
    "    for i in range(len(mod_splitters)-1):\n",
    "        sub_hist = full_hist[mod_splitters[i] -\n",
    "                             first_sep:mod_splitters[i+1]-first_sep]\n",
    "        if np.sum((sub_hist > 1) + 0) > 0:\n",
    "            non_character_filtered.append(mod_splitters[i])\n",
    "    if np.sum(full_hist[mod_splitters[-1]-first_sep:]) > 0:\n",
    "        non_character_filtered.append(mod_splitters[-1])\n",
    "\n",
    "    if len(non_character_filtered) == 0:\n",
    "        return [full_skeleton]\n",
    "\n",
    "    # remove fake alef at the beginning\n",
    "    start = 1 if isFakeAlef(skeleton, non_character_filtered[0]) else 0\n",
    "    fake_alef_splitter_filtered = np.array(\n",
    "        non_character_filtered[start:]).astype(np.uint8)\n",
    "\n",
    "    if len(fake_alef_splitter_filtered) == 0:\n",
    "        return [full_skeleton]\n",
    "\n",
    "    if debug:\n",
    "        bgr_skeleton = cv2.cvtColor((255 * full_skeleton).astype(np.uint8), cv2.COLOR_GRAY2BGR)\n",
    "        for splitter in fake_alef_splitter_filtered:\n",
    "            cv2.line(bgr_skeleton, (splitter, 0), (splitter, bgr_skeleton.shape[1]), (255, 0, 0), 1)\n",
    "\n",
    "        return bgr_skeleton\n",
    "    else:\n",
    "        characters = []\n",
    "        characters.append(full_skeleton[:, 0:fake_alef_splitter_filtered[0]])\n",
    "        for i in range(len(fake_alef_splitter_filtered)-1):\n",
    "            characters.append(full_skeleton[:, fake_alef_splitter_filtered[i]:fake_alef_splitter_filtered[i+1]])\n",
    "        characters.append(full_skeleton[:, fake_alef_splitter_filtered[-1]:])\n",
    "\n",
    "        return characters"
   ]
  },
  {
   "cell_type": "code",
   "execution_count": 75,
   "metadata": {},
   "outputs": [],
   "source": [
    "img = cv2.imread(\"./DataSets/sample/test3/test3.png\")\n",
    "lines = breakLines(img)"
   ]
  },
  {
   "cell_type": "code",
   "execution_count": 76,
   "metadata": {
    "scrolled": true
   },
   "outputs": [
    {
     "data": {
      "image/png": "[encoded data removed]",
      "text/plain": [
       "<Figure size 864x576 with 2 Axes>"
      ]
     },
     "metadata": {},
     "output_type": "display_data"
    },
    {
     "data": {
      "image/png": "[encoded data removed]",
      "text/plain": [
       "<Figure size 864x576 with 2 Axes>"
      ]
     },
     "metadata": {},
     "output_type": "display_data"
    },
    {
     "data": {
      "image/png": "[encoded data removed]",
      "text/plain": [
       "<Figure size 864x576 with 2 Axes>"
      ]
     },
     "metadata": {},
     "output_type": "display_data"
    },
    {
     "data": {
      "image/png": "[encoded data removed]",
      "text/plain": [
       "<Figure size 864x576 with 2 Axes>"
      ]
     },
     "metadata": {},
     "output_type": "display_data"
    },
    {
     "data": {
      "image/png": "[encoded data removed]",
      "text/plain": [
       "<Figure size 864x576 with 2 Axes>"
      ]
     },
     "metadata": {},
     "output_type": "display_data"
    },
    {
     "data": {
      "image/png": "[encoded data removed]",
      "text/plain": [
       "<Figure size 864x576 with 2 Axes>"
      ]
     },
     "metadata": {},
     "output_type": "display_data"
    },
    {
     "data": {
      "image/png": "[encoded data removed]",
      "text/plain": [
       "<Figure size 864x576 with 2 Axes>"
      ]
     },
     "metadata": {},
     "output_type": "display_data"
    },
    {
     "data": {
      "image/png": "[encoded data removed]",
      "text/plain": [
       "<Figure size 864x576 with 2 Axes>"
      ]
     },
     "metadata": {},
     "output_type": "display_data"
    },
    {
     "data": {
      "image/png": "[encoded data removed]",
      "text/plain": [
       "<Figure size 864x576 with 2 Axes>"
      ]
     },
     "metadata": {},
     "output_type": "display_data"
    },
    {
     "data": {
      "image/png": "[encoded data removed]",
      "text/plain": [
       "<Figure size 864x576 with 2 Axes>"
      ]
     },
     "metadata": {},
     "output_type": "display_data"
    },
    {
     "data": {
      "image/png": "[encoded data removed]",
      "text/plain": [
       "<Figure size 864x576 with 2 Axes>"
      ]
     },
     "metadata": {},
     "output_type": "display_data"
    },
    {
     "data": {
      "image/png": "[encoded data removed]",
      "text/plain": [
       "<Figure size 864x576 with 2 Axes>"
      ]
     },
     "metadata": {},
     "output_type": "display_data"
    },
    {
     "data": {
      "image/png": "[encoded data removed]",
      "text/plain": [
       "<Figure size 864x576 with 2 Axes>"
      ]
     },
     "metadata": {},
     "output_type": "display_data"
    },
    {
     "data": {
      "image/png": "[encoded data removed]",
      "text/plain": [
       "<Figure size 864x576 with 2 Axes>"
      ]
     },
     "metadata": {},
     "output_type": "display_data"
    }
   ],
   "source": [
    "words = breakWords(lines[5])\n",
    "for word in words:\n",
    "    show_images([word, segmenteCharacters(word, debug=True)])"
   ]
  },
  {
   "cell_type": "code",
   "execution_count": 21,
   "metadata": {
    "scrolled": true
   },
   "outputs": [
    {
     "data": {
      "image/png": "[encoded data removed]",
      "text/plain": [
       "<Figure size 432x288 with 1 Axes>"
      ]
     },
     "metadata": {},
     "output_type": "display_data"
    },
    {
     "data": {
      "image/png": "[encoded data removed]",
      "text/plain": [
       "<Figure size 432x288 with 1 Axes>"
      ]
     },
     "metadata": {},
     "output_type": "display_data"
    },
    {
     "data": {
      "image/png": "[encoded data removed]",
      "text/plain": [
       "<Figure size 432x288 with 1 Axes>"
      ]
     },
     "metadata": {},
     "output_type": "display_data"
    },
    {
     "data": {
      "image/png": "[encoded data removed]",
      "text/plain": [
       "<Figure size 432x288 with 1 Axes>"
      ]
     },
     "metadata": {},
     "output_type": "display_data"
    },
    {
     "data": {
      "image/png": "[encoded data removed]",
      "text/plain": [
       "<Figure size 432x288 with 1 Axes>"
      ]
     },
     "metadata": {},
     "output_type": "display_data"
    }
   ],
   "source": [
    "word = words[0]\n",
    "chars = segmenteCharacters(word)\n",
    "show_images([toSkeleton(word)], [\"word\"])\n",
    "for char in chars:\n",
    "    show_images([char])"
   ]
  },
  {
   "cell_type": "code",
   "execution_count": 72,
   "metadata": {
    "scrolled": true
   },
   "outputs": [
    {
     "name": "stdout",
     "output_type": "stream",
     "text": [
      "الدوح\n",
      "اف\n",
      "ب\n",
      "اعلنت\n",
      "قنا\n",
      "الجزير\n",
      "الفضاي\n",
      "امس\n",
      "الاحد\n",
      "وفا\n",
      "ماهر\n",
      "عبدالله\n",
      "مقدم\n",
      "برنامج\n",
      "الشريع\n",
      "والحيا\n",
      "ليل\n",
      "السبت\n",
      "الاحد\n",
      "في\n",
      "حادث\n",
      "سير\n",
      "في\n",
      "مدين\n",
      "الدوح\n",
      "وقد\n",
      "نعت\n",
      "القنا\n",
      "اليوم\n",
      "فقيدها\n",
      "في\n",
      "بيان\n",
      "اكدت\n",
      "فيه\n",
      "الحزن\n",
      "العميق\n",
      "والاس\n",
      "لفقدان\n",
      "الجزير\n",
      "والاعلام\n",
      "العربي\n",
      "ماهر\n",
      "عبد\n",
      "الله\n",
      "مدير\n",
      "العلاقات\n",
      "الدولي\n",
      "في\n",
      "القنا\n",
      "ومعد\n",
      "ومقدم\n",
      "برنامج\n",
      "الشريع\n",
      "والحيا\n",
      "الذي\n",
      "يحاور\n",
      "فيه\n",
      "اسبوعيا\n",
      "الداعي\n",
      "الاسلامي\n",
      "الشيخ\n",
      "يوسف\n",
      "القرضاوي\n",
      "وقال\n",
      "شهود\n",
      "عيان\n",
      "لوكال\n",
      "فرانس\n",
      "برس\n",
      "ان\n",
      "سيار\n",
      "عبد\n",
      "الله\n",
      "انحرفت\n",
      "عن\n",
      "طريقها\n",
      "واصطدمت\n",
      "بنخل\n",
      "عل\n",
      "الرصيف\n",
      "بعد\n",
      "ان\n",
      "غادر\n",
      "الفندق\n",
      "الذي\n",
      "التمت\n",
      "فيه\n",
      "اجتماعات\n",
      "المتمر\n",
      "القومي\n",
      "العربي\n",
      "مصطحبا\n",
      "معه\n",
      "احد\n",
      "ضيوف\n",
      "المتمر\n",
      "والذي\n",
      "جرح\n",
      "في\n",
      "الحادث\n",
      "ونقل\n",
      "ال\n",
      "المستشف\n",
      "حيث\n",
      "قال\n",
      "اطبا\n",
      "ان\n",
      "حالته\n",
      "مستقر\n",
      "وعبد\n",
      "الله\n",
      "عاما\n",
      "من\n",
      "اصل\n",
      "فلسطيني\n",
      "وبد\n",
      "العمل\n",
      "في\n",
      "قنا\n",
      "الجزير\n",
      "في\n",
      "بعد\n",
      "ان\n",
      "عمل\n",
      "في\n",
      "عدد\n",
      "من\n",
      "المسسات\n",
      "الاعلامي\n",
      "العربي\n",
      "ومنها\n",
      "صحيف\n",
      "الحيا\n",
      "ومركز\n",
      "تليفزيون\n",
      "الشرق\n",
      "الاوسط\n",
      "ام\n",
      "بي\n",
      "سي\n"
     ]
    }
   ],
   "source": [
    "with open('./DataSets/sample/test10/test10.txt') as f:\n",
    "    text = f.readlines()[0]\n",
    "    words = text.split()\n",
    "    for word in words:\n",
    "        print(word)"
   ]
  },
  {
   "cell_type": "code",
   "execution_count": null,
   "metadata": {},
   "outputs": [],
   "source": []
  }
 ],
 "metadata": {
  "kernelspec": {
   "display_name": "Python 3",
   "language": "python",
   "name": "python3"
  },
  "language_info": {
   "codemirror_mode": {
    "name": "ipython",
    "version": 3
   },
   "file_extension": ".py",
   "mimetype": "text/x-python",
   "name": "python",
   "nbconvert_exporter": "python",
   "pygments_lexer": "ipython3",
   "version": "3.6.5"
  }
 },
 "nbformat": 4,
 "nbformat_minor": 2
}
