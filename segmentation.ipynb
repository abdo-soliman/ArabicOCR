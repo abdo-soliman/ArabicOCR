{
 "cells": [
  {
   "cell_type": "code",
   "execution_count": 1,
   "metadata": {},
   "outputs": [],
   "source": [
    "import cv2\n",
    "import time\n",
    "import numpy as np\n",
    "\n",
    "%matplotlib inline\n",
    "import matplotlib.pyplot as plt\n",
    "from matplotlib.pyplot import bar\n",
    "\n",
    "from thinning import zhangSuen\n",
    "from skimage.filters import threshold_otsu\n",
    "from skimage.morphology import skeletonize"
   ]
  },
  {
   "cell_type": "code",
   "execution_count": 2,
   "metadata": {},
   "outputs": [],
   "source": [
    "def show_images(images,titles=None):\n",
    "    #This function is used to show image(s) with titles by sending an array of images and an array of associated titles.\n",
    "    # images[0] will be drawn with the title titles[0] if exists\n",
    "    # You aren't required to understand this function, use it as-is.\n",
    "    n_ims = len(images)\n",
    "    if titles is None: titles = ['(%d)' % i for i in range(1,n_ims + 1)]\n",
    "    fig = plt.figure()\n",
    "    n = 1\n",
    "    for image,title in zip(images,titles):\n",
    "        a = fig.add_subplot(1,n_ims,n)\n",
    "        if image.ndim == 2: \n",
    "            plt.gray()\n",
    "        plt.imshow(image)\n",
    "        a.set_title(title)\n",
    "        n += 1\n",
    "    fig.set_size_inches(np.array(fig.get_size_inches()) * n_ims)\n",
    "    plt.show()"
   ]
  },
  {
   "cell_type": "code",
   "execution_count": 3,
   "metadata": {},
   "outputs": [],
   "source": [
    "def showHist(hist):\n",
    "    plt.figure()\n",
    "    bar(np.arange(len(hist)), hist, width=0.8, align='center')"
   ]
  },
  {
   "cell_type": "code",
   "execution_count": 4,
   "metadata": {},
   "outputs": [],
   "source": [
    "def thin(img):\n",
    "    img = np.invert(img)\n",
    "    \n",
    "    Otsu_Threshold = threshold_otsu(img)\n",
    "    thresholded = img < Otsu_Threshold    # must set object region as 1, background region as 0 !\n",
    "\n",
    "    return zhangSuen(thresholded)"
   ]
  },
  {
   "cell_type": "code",
   "execution_count": 5,
   "metadata": {},
   "outputs": [],
   "source": [
    "def breakLines(img):\n",
    "    gray = cv2.cvtColor(img, cv2.COLOR_BGR2GRAY)\n",
    "\n",
    "    ## (2) threshold\n",
    "    th, threshed = cv2.threshold(gray, 127, 255, cv2.THRESH_BINARY_INV|cv2.THRESH_OTSU)\n",
    "    pts = cv2.findNonZero(threshed)\n",
    "    ret = cv2.minAreaRect(pts)\n",
    "\n",
    "    ## (3) minAreaRect on the nozeros\n",
    "    H,W = img.shape[:2]\n",
    "    (cx,cy), (w,h), ang = ret\n",
    "    \n",
    "    if (H > W and w > h) or (H < W and w < h):\n",
    "        w,h = h,w\n",
    "        ang += 90\n",
    "\n",
    "    # ## (4) Find rotated matrix, do rotation\n",
    "    M = cv2.getRotationMatrix2D((cx,cy), ang, 1.0)\n",
    "    rotated = cv2.warpAffine(threshed, M, (img.shape[1], img.shape[0]))\n",
    "    \n",
    "    ## (5) find and draw the upper and lower boundary of each lines\n",
    "    hist = cv2.reduce(rotated, 1, cv2.REDUCE_AVG).reshape(-1)\n",
    "\n",
    "    th = 2\n",
    "    uppers = [y for y in range(H-1) if hist[y]<=th and hist[y+1]>th]\n",
    "    lowers = [y for y in range(H-1) if hist[y]>th and hist[y+1]<=th]\n",
    "    \n",
    "    uppers_mod = [uppers[0]]\n",
    "    lowers_mod = [lowers[0]]\n",
    "    \n",
    "    for i in range(1, len(uppers)):\n",
    "        if (lowers[i] - lowers[i-1]) > 10:\n",
    "            uppers_mod.append(uppers[i])\n",
    "            lowers_mod.append(lowers[i])\n",
    "\n",
    "    lines = []\n",
    "    if len(uppers_mod) == len(lowers_mod):\n",
    "        for i in range(len(uppers_mod)):\n",
    "            lines.append(rotated[uppers_mod[i]-5:lowers_mod[i]+5, :])\n",
    "\n",
    "    return lines"
   ]
  },
  {
   "cell_type": "code",
   "execution_count": 6,
   "metadata": {},
   "outputs": [],
   "source": [
    "def breakWords(line):\n",
    "    H, W = line.shape\n",
    "    hist = cv2.reduce(line, 0, cv2.REDUCE_AVG).reshape(-1)\n",
    "\n",
    "    th = 2\n",
    "    lefts = [x for x in range(W-1) if hist[x] <= th and hist[x+1] > th]\n",
    "    rights = [x for x in range(W-1) if hist[x] > th and hist[x+1] <= th]\n",
    "\n",
    "    words = []\n",
    "    if len(lefts) == len(rights):\n",
    "        for i in range(len(rights)):\n",
    "            words.append(line[:, lefts[i]:rights[i]])\n",
    "\n",
    "    return words"
   ]
  },
  {
   "cell_type": "code",
   "execution_count": 7,
   "metadata": {},
   "outputs": [],
   "source": [
    "def addCharSeparetor(word):\n",
    "    binary = word.copy()\n",
    "    binary[binary <= 127] = 0\n",
    "    binary[binary > 127] = 1\n",
    "    skeleton = skeletonize(binary) + 0\n",
    "    hist = []\n",
    "    for i in range(skeleton.shape[1]):\n",
    "        hist.append(np.sum(skeleton[:, i]))\n",
    "\n",
    "    diff = np.diff(hist)\n",
    "    splitters = np.where(diff > 0)[0]\n",
    "    mod_splitters = [splitters[0]]\n",
    "    for i in range(1, len(splitters)):\n",
    "        if splitters[i] - splitters[i-1] >= 5:\n",
    "            mod_splitters.append(splitters[i])\n",
    "\n",
    "#     bgr_skeleton = cv2.cvtColor((255 * (skeleton + 0)).astype(np.uint8), cv2.COLOR_GRAY2BGR)\n",
    "#     for splitter in mod_splitters:\n",
    "#         cv2.line(bgr_skeleton, (splitter, 0), (splitter, bgr_skeleton.shape[1]), (255, 0, 0), 1)\n",
    "    characters = [word[:, 0:mod_splitters[0]]]\n",
    "    for i in range(1, len(mod_splitters)):\n",
    "            characters.append(word[:, mod_splitters[i-1]:mod_splitters[i]])\n",
    "\n",
    "    return characters"
   ]
  },
  {
   "cell_type": "code",
   "execution_count": 10,
   "metadata": {},
   "outputs": [],
   "source": [
    "def demo(img):\n",
    "    start_time = time.time()\n",
    "    lines = breakLines(img)\n",
    "    print(\"image to lines run time = %s secs\" % (time.time() - start_time))\n",
    "\n",
    "    counter = 0\n",
    "    line_chars = []\n",
    "    wordToCharsTimes = []\n",
    "    for line in lines:\n",
    "        start_time = time.time()\n",
    "        words = breakWords(line)\n",
    "        print(\"line_%s to words run time = %s secs\" % (counter, (time.time() - start_time)))\n",
    "        \n",
    "        chars = []\n",
    "        start_time = time.time()\n",
    "        for word in words:\n",
    "            startTime = time.time()\n",
    "            chars.append(addCharSeparetor(word))\n",
    "            wordToCharsTimes.append(time.time() - startTime)\n",
    "        line_chars.append(chars)\n",
    "\n",
    "        print(\"line_%s to characters run time = %s secs\" % (counter, (time.time() - start_time)))\n",
    "        print(\"--------------------------------------------------------------------------------\")\n",
    "        counter += 1\n",
    "    \n",
    "    wordToCharsTimes = np.array(wordToCharsTimes)\n",
    "    print(\"average word to characters run time = %s secs\" % np.average(wordToCharsTimes))"
   ]
  },
  {
   "cell_type": "code",
   "execution_count": 11,
   "metadata": {
    "scrolled": false
   },
   "outputs": [
    {
     "name": "stdout",
     "output_type": "stream",
     "text": [
      "image to lines run time = 0.04587221145629883 secs\n",
      "line_0 to words run time = 0.01230621337890625 secs\n",
      "line_0 to characters run time = 0.023282527923583984 secs\n",
      "--------------------------------------------------------------------------------\n",
      "line_1 to words run time = 0.008039712905883789 secs\n",
      "line_1 to characters run time = 0.007098674774169922 secs\n",
      "--------------------------------------------------------------------------------\n",
      "line_2 to words run time = 0.004056692123413086 secs\n",
      "line_2 to characters run time = 0.00903463363647461 secs\n",
      "--------------------------------------------------------------------------------\n",
      "line_3 to words run time = 0.004142045974731445 secs\n",
      "line_3 to characters run time = 0.006708860397338867 secs\n",
      "--------------------------------------------------------------------------------\n",
      "line_4 to words run time = 0.004686594009399414 secs\n",
      "line_4 to characters run time = 0.0055387020111083984 secs\n",
      "--------------------------------------------------------------------------------\n",
      "line_5 to words run time = 0.003702878952026367 secs\n",
      "line_5 to characters run time = 0.0075740814208984375 secs\n",
      "--------------------------------------------------------------------------------\n",
      "line_6 to words run time = 0.00397801399230957 secs\n",
      "line_6 to characters run time = 0.004581451416015625 secs\n",
      "--------------------------------------------------------------------------------\n",
      "average word to characters run time = 0.0003229760881607908 secs\n",
      "overAll Run Time = 0.15420889854431152 secs\n"
     ]
    }
   ],
   "source": [
    "img = cv2.imread(\"./DataSets/test1.png\")\n",
    "start_time = time.time()\n",
    "demo(img)\n",
    "print(\"overAll Run Time = %s secs\" % (time.time() - start_time))"
   ]
  },
  {
   "cell_type": "code",
   "execution_count": 12,
   "metadata": {
    "scrolled": false
   },
   "outputs": [
    {
     "data": {
      "image/png": "[encoded data removed]",
      "text/plain": [
       "<Figure size 432x288 with 1 Axes>"
      ]
     },
     "metadata": {},
     "output_type": "display_data"
    },
    {
     "data": {
      "image/png": "[encoded data removed]",
      "text/plain": [
       "<Figure size 432x288 with 1 Axes>"
      ]
     },
     "metadata": {},
     "output_type": "display_data"
    },
    {
     "data": {
      "image/png": "[encoded data removed]",
      "text/plain": [
       "<Figure size 432x288 with 1 Axes>"
      ]
     },
     "metadata": {},
     "output_type": "display_data"
    },
    {
     "data": {
      "image/png": "[encoded data removed]",
      "text/plain": [
       "<Figure size 432x288 with 1 Axes>"
      ]
     },
     "metadata": {},
     "output_type": "display_data"
    },
    {
     "data": {
      "image/png": "[encoded data removed]",
      "text/plain": [
       "<Figure size 432x288 with 1 Axes>"
      ]
     },
     "metadata": {},
     "output_type": "display_data"
    },
    {
     "data": {
      "image/png": "[encoded data removed]",
      "text/plain": [
       "<Figure size 432x288 with 1 Axes>"
      ]
     },
     "metadata": {},
     "output_type": "display_data"
    },
    {
     "data": {
      "image/png": "[encoded data removed]",
      "text/plain": [
       "<Figure size 432x288 with 1 Axes>"
      ]
     },
     "metadata": {},
     "output_type": "display_data"
    }
   ],
   "source": [
    "## (1) read\n",
    "img1 = cv2.imread(\"./DataSets/test1.png\")\n",
    "lines = breakLines(img1)\n",
    "for line in lines:\n",
    "    show_images([line], [\"line\"])\n",
    "\n",
    "# words = breakWords(lines[0])\n",
    "\n",
    "# for word in words:\n",
    "#     thinned = thin(word.copy())\n",
    "#     binary = word.copy()\n",
    "#     binary[binary <= 127] = 0\n",
    "#     binary[binary > 127] = 1\n",
    "#     skeleton = skeletonize(binary)\n",
    "    \n",
    "#     show_images([word, thinned, binary, skeleton], [\"word\", \"thinned\", \"binary\", \"skeletonized\"])"
   ]
  },
  {
   "cell_type": "code",
   "execution_count": 16,
   "metadata": {},
   "outputs": [
    {
     "data": {
      "image/png": "[encoded data removed]",
      "text/plain": [
       "<Figure size 432x288 with 1 Axes>"
      ]
     },
     "metadata": {},
     "output_type": "display_data"
    },
    {
     "data": {
      "image/png": "[encoded data removed]",
      "text/plain": [
       "<Figure size 432x288 with 1 Axes>"
      ]
     },
     "metadata": {},
     "output_type": "display_data"
    }
   ],
   "source": [
    "word = words[5]\n",
    "binary = word.copy()\n",
    "binary[binary <= 127] = 0\n",
    "binary[binary > 127] = 1\n",
    "skeleton = skeletonize(binary) + 0\n",
    "hist = []\n",
    "for i in range(skeleton.shape[1]):\n",
    "    hist.append(np.sum(skeleton[:, i]))\n",
    "            \n",
    "# print(hist)\n",
    "# print(np.diff(hist))\n",
    "diff = np.diff(hist)\n",
    "splitters = np.where(diff > 0)[0]\n",
    "mod_splitters = [splitters[0]]\n",
    "for i in range(1, len(splitters)):\n",
    "    if splitters[i] - splitters[i-1] >= 3:\n",
    "        mod_splitters.append(splitters[i])\n",
    "\n",
    "bgr_skeleton = cv2.cvtColor((255 * (skeleton + 0)).astype(np.uint8), cv2.COLOR_GRAY2BGR)\n",
    "for splitter in mod_splitters:\n",
    "    cv2.line(bgr_skeleton, (splitter, 0), (splitter, bgr_skeleton.shape[1]), (255, 0, 0), 1)\n",
    "    \n",
    "# show_images([word, skeleton, bgr_skeleton], [\"original\", \"skeleton\", \"skeleton with character separators\"])\n",
    "showHist(hist)\n",
    "showHist(np.diff(hist))"
   ]
  },
  {
   "cell_type": "code",
   "execution_count": null,
   "metadata": {},
   "outputs": [],
   "source": [
    "word = words[5]\n",
    "binary = word.copy()\n",
    "binary[binary <= 127] = 0\n",
    "binary[binary > 127] = 1\n",
    "skeleton = skeletonize(binary)\n",
    "bgr_skeleton = cv2.cvtColor((255 * (skeleton + 0)).astype(np.uint8), cv2.COLOR_GRAY2BGR)\n",
    "skeleton = skeleton.astype(np.uint8)\n",
    "\n",
    "#find contours\n",
    "ctrs, hier = cv2.findContours(skeleton.copy(), cv2.RETR_EXTERNAL, \n",
    "cv2.CHAIN_APPROX_SIMPLE)\n",
    "\n",
    "# #sort contours\n",
    "sorted_ctrs = sorted(ctrs, key=lambda ctr: cv2.boundingRect(ctr)[0])\n",
    "\n",
    "for i, ctr in enumerate(sorted_ctrs):\n",
    "#     if i == 3:\n",
    "#         break\n",
    "    # Get bounding box\n",
    "    x, y, w, h = cv2.boundingRect(ctr)\n",
    "\n",
    "    # Getting ROI\n",
    "#     roi = bgr_skeleton[y:y+h, x:x+w]\n",
    "\n",
    "    # show ROI\n",
    "    #cv2.imwrite('roi_imgs.png', roi\n",
    "#     show_images([roi], ['charachter' + str(i)])\n",
    "#     cv2.line(bgr_skeleton, (x, 0), (x, bgr_skeleton.shape[1]), (0, 0, 255), 1)\n",
    "#     cv2.line(bgr_skeleton, (x+w, 0), (x+w, bgr_skeleton.shape[1]), (0, 255, 0), 1)\n",
    "    if i < 2:\n",
    "        continue\n",
    "    cv2.rectangle(bgr_skeleton, (x, y), (x+w, y+h), (90, 0, 255), 1)\n",
    "\n",
    "show_images([bgr_skeleton], ['marked areas'])"
   ]
  },
  {
   "cell_type": "code",
   "execution_count": null,
   "metadata": {},
   "outputs": [],
   "source": [
    "# Copy edges to the images that will display the results in BGR\n",
    "# word = words[4]\n",
    "# binary = word.copy()\n",
    "# binary[binary <= 127] = 0\n",
    "# binary[binary > 127] = 1\n",
    "# skeleton = skeletonize(binary)\n",
    "# skeleton = 255 * (skeleton + 0)\n",
    "# skeleton = skeleton.astype(np.uint8)\n",
    "\n",
    "# cdst = cv2.cvtColor(skeleton, cv2.COLOR_GRAY2BGR)\n",
    "# cdstP = np.copy(cdst)\n",
    "\n",
    "# lines = cv2.HoughLines(skeleton, 1, np.pi / 180, 150, None, 0, 0)\n",
    "# print(lines)\n",
    "\n",
    "# if lines is not None:\n",
    "#     for i in range(0, len(lines)):\n",
    "#         rho = lines[i][0][0]\n",
    "#         theta = lines[i][0][1]\n",
    "#         a = math.cos(theta)\n",
    "#         b = math.sin(theta)\n",
    "#         x0 = a * rho\n",
    "#         y0 = b * rho\n",
    "#         pt1 = (int(x0 + 1000*(-b)), int(y0 + 1000*(a)))\n",
    "#         pt2 = (int(x0 - 1000*(-b)), int(y0 - 1000*(a)))\n",
    "#         cv2.line(cdst, pt1, pt2, (0,0,255), 3, cv.LINE_AA)\n",
    "\n",
    "\n",
    "# linesP = cv2.HoughLinesP(skeleton, 1, np.pi / 180, 50, None, 50, 10)\n",
    "# print(linesP)\n",
    "\n",
    "# if linesP is not None:\n",
    "#     for i in range(0, len(linesP)):\n",
    "#         l = linesP[i][0]\n",
    "#         cv2.line(cdstP, (l[0], l[1]), (l[2], l[3]), (0,0,255), 3, cv.LINE_AA)\n",
    "        \n",
    "\n",
    "# show_images(\n",
    "#     [skeleton, cdst, cdstP],\n",
    "#     [\n",
    "#         \"Source\",\n",
    "#         \"Detected Lines (in red) - Standard Hough Line Transform\",\n",
    "#         \"Detected Lines (in red) - Probabilistic Line Transform\"\n",
    "#     ]\n",
    "# )"
   ]
  }
 ],
 "metadata": {
  "kernelspec": {
   "display_name": "Python 3",
   "language": "python",
   "name": "python3"
  },
  "language_info": {
   "codemirror_mode": {
    "name": "ipython",
    "version": 3
   },
   "file_extension": ".py",
   "mimetype": "text/x-python",
   "name": "python",
   "nbconvert_exporter": "python",
   "pygments_lexer": "ipython3",
   "version": "3.6.5"
  }
 },
 "nbformat": 4,
 "nbformat_minor": 2
}
