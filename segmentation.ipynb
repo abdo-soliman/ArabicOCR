{
 "cells": [
  {
   "cell_type": "code",
   "execution_count": 1,
   "metadata": {},
   "outputs": [],
   "source": [
    "import cv2\n",
    "import numpy as np\n",
    "from utils import *\n",
    "from segmentation import *"
   ]
  },
  {
   "cell_type": "code",
   "execution_count": 2,
   "metadata": {},
   "outputs": [],
   "source": [
    "def imageToWords(img):\n",
    "    words = []\n",
    "    lines = breakLines(img)\n",
    "    for line in lines:\n",
    "        line_words = breakWords(line)\n",
    "        line_words.reverse()\n",
    "        for word in line_words:\n",
    "            words.append(word)\n",
    "            \n",
    "    return words"
   ]
  },
  {
   "cell_type": "code",
   "execution_count": 3,
   "metadata": {},
   "outputs": [],
   "source": [
    "letter_counts = {\n",
    "    \"ا\" : 0,\n",
    "    \"ب\" : 0,\n",
    "    \"ت\" : 0,\n",
    "    \"ث\" : 0,\n",
    "    \"ج\" : 0,\n",
    "    \"ح\" : 0,\n",
    "    \"خ\" : 0,\n",
    "    \"د\" : 0,\n",
    "    \"ذ\" : 0,\n",
    "    \"ر\" : 0,\n",
    "    \"ز\" : 0,\n",
    "    \"ش\" : 0,\n",
    "    \"س\" : 0,\n",
    "    \"ص\" : 0,\n",
    "    \"ض\" : 0,\n",
    "    \"ط\" : 0,\n",
    "    \"ظ\" : 0,\n",
    "    \"ع\" : 0,\n",
    "    \"غ\" : 0,\n",
    "    \"ف\" : 0,\n",
    "    \"ق\" : 0,\n",
    "    \"ك\" : 0,\n",
    "    \"ل\" : 0,\n",
    "    \"م\" : 0,\n",
    "    \"ن\" : 0,\n",
    "    \"ه\" : 0,\n",
    "    \"و\" : 0,\n",
    "    \"ي\" : 0,\n",
    "    \"ﻻ\" : 0,\n",
    "    \"ى\" : 0,\n",
    "    \"ئ\" : 0,\n",
    "    \"ء\" : 0,\n",
    "    \"ؤ\" : 0,\n",
    "    \"ة\" : 0\n",
    "}"
   ]
  },
  {
   "cell_type": "code",
   "execution_count": 5,
   "metadata": {},
   "outputs": [],
   "source": [
    "def imgToDataSet(img_path, text_path):\n",
    "    img = cv2.imread(img_path)\n",
    "    img_words = imageToWords(img)\n",
    "    with open(text_path) as f:\n",
    "        text = f.readlines()[0]\n",
    "        text_words = text.split()\n",
    "        index = 0\n",
    "        for word in text_words:\n",
    "            if index >= len(img_words):\n",
    "                break\n",
    "            chars = segmenteCharacters(img_words[index])\n",
    "            if len(chars) == len(word):\n",
    "                chars.reverse()\n",
    "                for i in range(len(word)):\n",
    "                    letter = 255*extractTemplate(chars[i])\n",
    "                    if letter.shape[0] < 25 and letter.shape[1] < 25:\n",
    "                        mask = np.zeros((25, 25))\n",
    "\n",
    "                        vertical_start = int((25 - letter.shape[0]) / 2)\n",
    "                        vertical_end = vertical_start + letter.shape[0]\n",
    "                        horizontal_start = int((25 - letter.shape[1]) / 2)\n",
    "                        horizontal_end = horizontal_start + letter.shape[1]\n",
    "\n",
    "                        mask[vertical_start:vertical_end, horizontal_start:horizontal_end] = letter\n",
    "                        cv2.imwrite(\"./DataSets/dataSet/\" + word[i] + \"/\" + word[i] + \"_\" + str(letter_counts[word[i]]) + \".png\", mask)\n",
    "                        letter_counts[word[i]] += 1\n",
    "            index += 1"
   ]
  },
  {
   "cell_type": "code",
   "execution_count": 15,
   "metadata": {
    "scrolled": true
   },
   "outputs": [],
   "source": [
    "count = 10\n",
    "img_path = \"./DataSets/sample/test\" + str(count) + \"/test\" + str(count) + \".png\"\n",
    "text_path = \"./DataSets/sample/test\" + str(count) + \"/test\" + str(count) + \".txt\"\n",
    "imgToDataSet(img_path, text_path)"
   ]
  },
  {
   "cell_type": "code",
   "execution_count": null,
   "metadata": {
    "scrolled": false
   },
   "outputs": [],
   "source": []
  }
 ],
 "metadata": {
  "kernelspec": {
   "display_name": "Python 3",
   "language": "python",
   "name": "python3"
  },
  "language_info": {
   "codemirror_mode": {
    "name": "ipython",
    "version": 3
   },
   "file_extension": ".py",
   "mimetype": "text/x-python",
   "name": "python",
   "nbconvert_exporter": "python",
   "pygments_lexer": "ipython3",
   "version": "3.6.5"
  }
 },
 "nbformat": 4,
 "nbformat_minor": 2
}
