{
 "cells": [
  {
   "cell_type": "code",
   "execution_count": 1,
   "metadata": {},
   "outputs": [],
   "source": [
    "import cv2\n",
    "import numpy as np\n",
    "from utils import *\n",
    "from segmentation import breakLines, breakWords, extractTemplate, templateMatch, getBaseLine, addEmptySpaceSep, matchFirstCharacter"
   ]
  },
  {
   "cell_type": "code",
   "execution_count": null,
   "metadata": {},
   "outputs": [],
   "source": [
    "def datasetToCsv(img_dir, text_dir, image_files, destination):\n",
    "    rows = []\n",
    "\n",
    "    column_names = [\"feature\" + str(i) for i in range(25*25)]\n",
    "    column_names.append(\"label\")\n",
    "    count = 0\n",
    "    for image in image_files:\n",
    "        if limit > 0 and count == limit:\n",
    "            break\n",
    "        if count % 200 == 0:\n",
    "            print(\"currently at image: \" + str(count))\n",
    "        img_path = img_dir + \"/\" + image\n",
    "        text_path = text_dir + \"/\" + image.split('.')[0] + \".txt\"\n",
    "\n",
    "        img = cv2.imread(img_path)\n",
    "        img_words = imageToWords(img)\n",
    "        with open(text_path) as f:\n",
    "            text = f.readlines()[0]\n",
    "            text_words = text.split()\n",
    "            index = 0\n",
    "            for word in text_words:\n",
    "                if index >= len(img_words):\n",
    "                    break\n",
    "                chars = segmenteCharacters(img_words[index])\n",
    "                if len(chars) == len(word):\n",
    "                    chars.reverse()\n",
    "                    for i in range(len(word)):\n",
    "                        letter = extractTemplate(chars[i])\n",
    "                        if letter.shape[0] < 25 and letter.shape[1] < 25:\n",
    "                            mask = np.zeros((25, 25))\n",
    "\n",
    "                            vertical_start = int((25 - letter.shape[0]) / 2)\n",
    "                            vertical_end = vertical_start + letter.shape[0]\n",
    "                            horizontal_start = int((25 - letter.shape[1]) / 2)\n",
    "                            horizontal_end = horizontal_start + letter.shape[1]\n",
    "\n",
    "                            mask[vertical_start:vertical_end,\n",
    "                                 horizontal_start:horizontal_end] = letter\n",
    "                            mask = mask.reshape(1, mask.shape[0]*mask.shape[1])\n",
    "                            row = [mask[:, i][0] for i in range(mask.shape[1])]\n",
    "                            row.append(word[i])\n",
    "                            rows.append(row)\n",
    "                            LETTER_COUNTS[word[i]] += 1\n",
    "                index += 1\n",
    "        count += 1\n",
    "\n",
    "    df = pd.DataFrame(data=rows, columns=column_names)\n",
    "    df.to_csv(destination + \"/dataset.csv\", index=False)"
   ]
  },
  {
   "cell_type": "code",
   "execution_count": null,
   "metadata": {},
   "outputs": [],
   "source": []
  },
  {
   "cell_type": "code",
   "execution_count": null,
   "metadata": {},
   "outputs": [],
   "source": []
  }
 ],
 "metadata": {
  "kernelspec": {
   "display_name": "Python 3",
   "language": "python",
   "name": "python3"
  },
  "language_info": {
   "codemirror_mode": {
    "name": "ipython",
    "version": 3
   },
   "file_extension": ".py",
   "mimetype": "text/x-python",
   "name": "python",
   "nbconvert_exporter": "python",
   "pygments_lexer": "ipython3",
   "version": "3.6.5"
  }
 },
 "nbformat": 4,
 "nbformat_minor": 2
}
