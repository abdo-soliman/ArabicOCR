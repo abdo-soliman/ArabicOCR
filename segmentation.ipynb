{
 "cells": [
  {
   "cell_type": "code",
   "execution_count": 2,
   "metadata": {},
   "outputs": [],
   "source": [
    "import glob\n",
    "import cv2\n",
    "import numpy as np\n",
    "from utils import *\n",
    "import pandas as pd\n",
    "from segmentation import breakLines, breakWords, extractTemplate, templateMatch, getBaseLine, addEmptySpaceSep, matchFirstCharacter"
   ]
  },
  {
   "cell_type": "code",
   "execution_count": null,
   "metadata": {},
   "outputs": [],
   "source": [
    "def datasetToCsv(img_dir, text_dir, image_files, destination):\n",
    "    rows = []\n",
    "\n",
    "    column_names = [\"feature\" + str(i) for i in range(25*25)]\n",
    "    column_names.append(\"label\")\n",
    "    count = 0\n",
    "    for image in image_files:\n",
    "        if limit > 0 and count == limit:\n",
    "            break\n",
    "        if count % 200 == 0:\n",
    "            print(\"currently at image: \" + str(count))\n",
    "        img_path = img_dir + \"/\" + image\n",
    "        text_path = text_dir + \"/\" + image.split('.')[0] + \".txt\"\n",
    "\n",
    "        img = cv2.imread(img_path)\n",
    "        img_words = imageToWords(img)\n",
    "        with open(text_path) as f:\n",
    "            text = f.readlines()[0]\n",
    "            text_words = text.split()\n",
    "            index = 0\n",
    "            for word in text_words:\n",
    "                if index >= len(img_words):\n",
    "                    break\n",
    "                chars = segmenteCharacters(img_words[index])\n",
    "                if len(chars) == len(word):\n",
    "                    chars.reverse()\n",
    "                    for i in range(len(word)):\n",
    "                        letter = extractTemplate(chars[i])\n",
    "                        if letter.shape[0] < 25 and letter.shape[1] < 25:\n",
    "                            mask = np.zeros((25, 25))\n",
    "\n",
    "                            vertical_start = int((25 - letter.shape[0]) / 2)\n",
    "                            vertical_end = vertical_start + letter.shape[0]\n",
    "                            horizontal_start = int((25 - letter.shape[1]) / 2)\n",
    "                            horizontal_end = horizontal_start + letter.shape[1]\n",
    "\n",
    "                            mask[vertical_start:vertical_end,\n",
    "                                 horizontal_start:horizontal_end] = letter\n",
    "                            mask = mask.reshape(1, mask.shape[0]*mask.shape[1])\n",
    "                            row = [mask[:, i][0] for i in range(mask.shape[1])]\n",
    "                            row.append(word[i])\n",
    "                            rows.append(row)\n",
    "                            LETTER_COUNTS[word[i]] += 1\n",
    "                index += 1\n",
    "        count += 1\n",
    "\n",
    "    df = pd.DataFrame(data=rows, columns=column_names)\n",
    "    df.to_csv(destination + \"/dataset.csv\", index=False)"
   ]
  },
  {
   "cell_type": "code",
   "execution_count": 12,
   "metadata": {},
   "outputs": [
    {
     "name": "stdout",
     "output_type": "stream",
     "text": [
      "currently at letter: ع\n",
      "currently at letter: ز\n",
      "currently at letter: ج\n",
      "currently at letter: ب\n",
      "currently at letter: ن\n",
      "currently at letter: ث\n",
      "currently at letter: ر\n",
      "currently at letter: ذ\n",
      "currently at letter: ط\n",
      "currently at letter: ف\n",
      "currently at letter: ت\n",
      "currently at letter: و\n",
      "currently at letter: س\n",
      "currently at letter: ﻻ\n",
      "currently at letter: ل\n",
      "currently at letter: غ\n",
      "currently at letter: ا\n",
      "currently at letter: د\n",
      "currently at letter: ك\n",
      "currently at letter: م\n",
      "currently at letter: ظ\n",
      "currently at letter: ح\n",
      "currently at letter: خ\n",
      "currently at letter: ه\n",
      "currently at letter: ق\n",
      "currently at letter: ش\n",
      "currently at letter: ي\n",
      "currently at letter: ض\n",
      "currently at letter: ص\n",
      "creating df...\n"
     ]
    }
   ],
   "source": [
    "def datasetToCsv(dataset_path):\n",
    "    img_dirs = glob.glob(dataset_path+\"/*\")\n",
    "\n",
    "    column_names = [\"feature\" + str(i) for i in range(25*25)]\n",
    "    column_names.append(\"label\")\n",
    "    rows = []\n",
    "    for img_dir in img_dirs:\n",
    "        img_pathes = glob.glob(img_dir+\"/*\")\n",
    "        print(\"currently at letter: \" + img_dir.split('/')[-1])\n",
    "        for img_path in img_pathes:\n",
    "            img = (cv2.imread(img_path, 0) / 255).astype(np.uint8)\n",
    "            img = img.reshape(1, img.shape[0]*img.shape[1])\n",
    "            row = [img[:, i][0] for i in range(img.shape[1])]\n",
    "            row.append(img_dir.split('/')[-1])\n",
    "            rows.append(row)\n",
    "\n",
    "    print(\"creating df...\")\n",
    "    df = pd.DataFrame(data=rows, columns=column_names)\n",
    "    df.to_csv(\"./dataset.csv\", index=False)"
   ]
  },
  {
   "cell_type": "code",
   "execution_count": 15,
   "metadata": {},
   "outputs": [],
   "source": [
    "img_dirs = glob.glob(\"./dataset/*\")\n",
    "labels = [img_dir.split('/')[-1] for img_dir in img_dirs]\n",
    "\n",
    "df = pd.read_csv(\"./dataset.csv\")\n",
    "df = df.loc[:, (df != 0).any(axis=0)]\n",
    "\n",
    "df = df.reset_index()\n",
    "\n",
    "test_dataframes = []\n",
    "for label in labels:\n",
    "    test_dataframes.append(df.loc[df['label'] == label].sample(n=10))\n",
    "    \n",
    "test_df = pd.concat(test_dataframes)\n",
    "train_df = df.drop(test_df.index)\n",
    "\n",
    "train_df = train_df.sample(frac=1)\n",
    "test_df = test_df.sample(frac=1)\n",
    "del train_df['index']\n",
    "del test_df['index']\n",
    "train_df.to_csv(\"./train.csv\", index=False)\n",
    "test_df.to_csv(\"./test.csv\", index=False)"
   ]
  },
  {
   "cell_type": "code",
   "execution_count": 20,
   "metadata": {
    "scrolled": true
   },
   "outputs": [
    {
     "name": "stdout",
     "output_type": "stream",
     "text": [
      "[116, 117, 134, 135, 136, 137, 138, 139, 140, 141, 143, 145, 158, 159, 160, 161, 162, 163, 164, 165, 166, 167, 168, 169, 170, 179, 181, 182, 183, 184, 185, 186, 187, 188, 189, 190, 191, 192, 193, 194, 195, 196, 203, 204, 205, 206, 207, 208, 209, 210, 211, 212, 213, 214, 215, 216, 217, 218, 219, 220, 221, 228, 229, 230, 231, 232, 233, 234, 235, 236, 237, 238, 239, 240, 241, 242, 243, 244, 245, 246, 247, 248, 252, 253, 254, 255, 256, 257, 258, 259, 260, 261, 262, 263, 264, 265, 266, 267, 268, 269, 270, 271, 272, 273, 276, 277, 278, 279, 280, 281, 282, 283, 284, 285, 286, 287, 288, 289, 290, 291, 292, 293, 294, 295, 296, 297, 301, 303, 304, 305, 306, 307, 308, 309, 310, 311, 312, 313, 314, 315, 316, 317, 318, 319, 320, 321, 322, 323, 326, 327, 328, 329, 330, 331, 332, 333, 334, 335, 336, 337, 338, 339, 340, 341, 342, 343, 344, 345, 346, 347, 348, 351, 352, 353, 354, 355, 356, 357, 358, 359, 360, 361, 362, 363, 364, 365, 366, 367, 368, 369, 370, 371, 372, 373, 377, 378, 379, 380, 381, 382, 383, 384, 385, 386, 387, 388, 389, 390, 391, 392, 393, 394, 395, 396, 397, 398, 402, 403, 404, 405, 406, 407, 408, 409, 410, 411, 412, 413, 414, 415, 416, 417, 418, 419, 420, 421, 428, 429, 430, 431, 432, 433, 434, 435, 436, 437, 438, 439, 440, 441, 442, 443, 444, 445, 454, 455, 456, 457, 458, 459, 460, 461, 462, 463, 464, 465, 466, 482, 483, 484, 485, 486, 487, 488, 489, 490]\n"
     ]
    }
   ],
   "source": [
    "features = [116, 117, 134, 135, 136, 137, 138, 139, 140, 141, 143, 145, 158, 159, 160, 161, 162, 163, 164, 165, 166, 167, 168, 169, 170, 179, 181, 182, 183, 184, 185, 186, 187, 188, 189, 190, 191, 192, 193, 194, 195, 196, 203, 204, 205, 206, 207, 208, 209, 210, 211, 212, 213, 214, 215, 216, 217, 218, 219, 220, 221, 228, 229, 230, 231, 232, 233, 234, 235, 236, 237, 238, 239, 240, 241, 242, 243, 244, 245, 246, 247, 248, 252, 253, 254, 255, 256, 257, 258, 259, 260, 261, 262, 263, 264, 265, 266, 267, 268, 269, 270, 271, 272, 273, 276, 277, 278, 279, 280, 281, 282, 283, 284, 285, 286, 287, 288, 289, 290, 291, 292, 293, 294, 295, 296, 297, 301, 303, 304, 305, 306, 307, 308, 309, 310, 311, 312, 313, 314, 315, 316, 317, 318, 319, 320, 321, 322, 323, 326, 327, 328, 329, 330, 331, 332, 333, 334, 335, 336, 337, 338, 339, 340, 341, 342, 343, 344, 345, 346, 347, 348, 351, 352, 353, 354, 355, 356, 357, 358, 359, 360, 361, 362, 363, 364, 365, 366, 367, 368, 369, 370, 371, 372, 373, 377, 378, 379, 380, 381, 382, 383, 384, 385, 386, 387, 388, 389, 390, 391, 392, 393, 394, 395, 396, 397, 398, 402, 403, 404, 405, 406, 407, 408, 409, 410, 411, 412, 413, 414, 415, 416, 417, 418, 419, 420, 421, 428, 429, 430, 431, 432, 433, 434, 435, 436, 437, 438, 439, 440, 441, 442, 443, 444, 445, 454, 455, 456, 457, 458, 459, 460, 461, 462, 463, 464, 465, 466, 482, 483, 484, 485, 486, 487, 488, 489, 490]\n"
   ]
  },
  {
   "cell_type": "code",
   "execution_count": null,
   "metadata": {},
   "outputs": [],
   "source": []
  }
 ],
 "metadata": {
  "kernelspec": {
   "display_name": "Python 3",
   "language": "python",
   "name": "python3"
  },
  "language_info": {
   "codemirror_mode": {
    "name": "ipython",
    "version": 3
   },
   "file_extension": ".py",
   "mimetype": "text/x-python",
   "name": "python",
   "nbconvert_exporter": "python",
   "pygments_lexer": "ipython3",
   "version": "3.6.5"
  }
 },
 "nbformat": 4,
 "nbformat_minor": 2
}
